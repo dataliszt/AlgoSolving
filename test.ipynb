{
 "cells": [
  {
   "cell_type": "code",
   "execution_count": 1,
   "metadata": {},
   "outputs": [],
   "source": [
    "import time"
   ]
  },
  {
   "cell_type": "code",
   "execution_count": 2,
   "metadata": {},
   "outputs": [
    {
     "name": "stdout",
     "output_type": "stream",
     "text": [
      "50000000\n",
      "7.27928900718689\n"
     ]
    }
   ],
   "source": [
    "start = time.time()\n",
    "number  = list(map(int, list(\"1\"*50000000)))\n",
    "total = 0\n",
    "for i in number:\n",
    "    total += i\n",
    "print(total)\n",
    "end = time.time()\n",
    "print(end - start)"
   ]
  },
  {
   "cell_type": "code",
   "execution_count": 2,
   "metadata": {},
   "outputs": [
    {
     "name": "stdout",
     "output_type": "stream",
     "text": [
      "50000000\n",
      "10.038756847381592\n"
     ]
    }
   ],
   "source": [
    "start = time.time()\n",
    "number  = list(\"1\"*50000000)\n",
    "total = 0\n",
    "for i in range(len(number)):\n",
    "    total += int(number[i])\n",
    "print(total)\n",
    "end = time.time()\n",
    "print(end - start)"
   ]
  },
  {
   "cell_type": "code",
   "execution_count": null,
   "metadata": {},
   "outputs": [],
   "source": []
  }
 ],
 "metadata": {
  "kernelspec": {
   "display_name": "Python 3.8.12 ('withmind')",
   "language": "python",
   "name": "python3"
  },
  "language_info": {
   "codemirror_mode": {
    "name": "ipython",
    "version": 3
   },
   "file_extension": ".py",
   "mimetype": "text/x-python",
   "name": "python",
   "nbconvert_exporter": "python",
   "pygments_lexer": "ipython3",
   "version": "3.8.12"
  },
  "orig_nbformat": 4,
  "vscode": {
   "interpreter": {
    "hash": "06c66610b20be63b1282705d3cac5501bd016203ffd6f2de8462fc3c815b1af6"
   }
  }
 },
 "nbformat": 4,
 "nbformat_minor": 2
}
