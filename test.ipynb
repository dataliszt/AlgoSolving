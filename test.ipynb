{
 "cells": [
  {
   "cell_type": "markdown",
   "metadata": {},
   "source": [
    "### 11720"
   ]
  },
  {
   "cell_type": "code",
   "execution_count": 1,
   "metadata": {},
   "outputs": [],
   "source": [
    "import time"
   ]
  },
  {
   "cell_type": "code",
   "execution_count": 3,
   "metadata": {},
   "outputs": [
    {
     "name": "stdout",
     "output_type": "stream",
     "text": [
      "50000000\n",
      "7.36 sec\n"
     ]
    }
   ],
   "source": [
    "start = time.time()\n",
    "number  = list(map(int, list(\"1\" * 50000000)))\n",
    "total = 0\n",
    "for i in number:\n",
    "    total += i\n",
    "print(total)\n",
    "print(f\"{time.time() - start:.4f} sec\")"
   ]
  },
  {
   "cell_type": "code",
   "execution_count": 4,
   "metadata": {},
   "outputs": [
    {
     "name": "stdout",
     "output_type": "stream",
     "text": [
      "50000000\n",
      "10.17 sec\n"
     ]
    }
   ],
   "source": [
    "start = time.time()\n",
    "number  = list(\"1\"*50000000)\n",
    "total = 0\n",
    "for i in range(len(number)):\n",
    "    total += int(number[i])\n",
    "print(total)\n",
    "print(f\"{time.time() - start:.4f} sec\")"
   ]
  },
  {
   "cell_type": "markdown",
   "metadata": {},
   "source": [
    "### 1152"
   ]
  },
  {
   "cell_type": "code",
   "execution_count": 12,
   "metadata": {},
   "outputs": [],
   "source": [
    "input = \" The Curious Case of Benjamin Button \""
   ]
  },
  {
   "cell_type": "code",
   "execution_count": 14,
   "metadata": {},
   "outputs": [
    {
     "name": "stdout",
     "output_type": "stream",
     "text": [
      "6\n"
     ]
    }
   ],
   "source": [
    "print(len(input.strip().split(\" \")))"
   ]
  },
  {
   "cell_type": "markdown",
   "metadata": {},
   "source": [
    "### 2577"
   ]
  },
  {
   "cell_type": "code",
   "execution_count": 58,
   "metadata": {},
   "outputs": [
    {
     "name": "stdout",
     "output_type": "stream",
     "text": [
      "2\n",
      "0\n",
      "1\n",
      "0\n",
      "0\n",
      "0\n",
      "0\n",
      "1\n",
      "0\n",
      "5\n"
     ]
    }
   ],
   "source": [
    "num_count_dict = {}\n",
    "total_num = 1\n",
    "for i in range(3):\n",
    "    total_num *= int(999)\n",
    "\n",
    "for num in str(total_num):\n",
    "    if num_count_dict.get(num) is None:\n",
    "        num_count_dict[num] = 1\n",
    "    else:\n",
    "        num_count_dict[num] += 1\n",
    "\n",
    "for i in range(10):\n",
    "    if num_count_dict.get(str(i)) is None:\n",
    "        print(0)\n",
    "    else:\n",
    "        print(num_count_dict.get(str(i)))"
   ]
  },
  {
   "cell_type": "code",
   "execution_count": 57,
   "metadata": {},
   "outputs": [
    {
     "name": "stdout",
     "output_type": "stream",
     "text": [
      "2\n",
      "0\n",
      "1\n",
      "0\n",
      "0\n",
      "0\n",
      "0\n",
      "1\n",
      "0\n",
      "5\n"
     ]
    }
   ],
   "source": [
    "from collections import Counter\n",
    "\n",
    "a = 999\n",
    "b = 999\n",
    "c = 999\n",
    "\n",
    "num_count = Counter(str(a * b * c))\n",
    "for num in range(10):\n",
    "    if num_count.get(str(num)) is None:\n",
    "        print(0)\n",
    "    else:\n",
    "        print(num_count.get(str(num)))"
   ]
  },
  {
   "cell_type": "code",
   "execution_count": 38,
   "metadata": {},
   "outputs": [],
   "source": [
    "a = 5"
   ]
  },
  {
   "cell_type": "code",
   "execution_count": 40,
   "metadata": {},
   "outputs": [
    {
     "name": "stdout",
     "output_type": "stream",
     "text": [
      "10\n",
      "10\n",
      "10\n",
      "10\n",
      "10\n"
     ]
    }
   ],
   "source": [
    "repeat_time = int(a)\n",
    "for i in range(repeat_time):\n",
    "    string = \"OOXXOXXOOO\"\n",
    "    total_score = 0 \n",
    "    score = 0\n",
    "    for char in string:\n",
    "        if char == \"O\":\n",
    "            score += 1\n",
    "            total_score += score\n",
    "        else:\n",
    "            score = 0 \n",
    "    print(total_score)"
   ]
  },
  {
   "cell_type": "code",
   "execution_count": 64,
   "metadata": {},
   "outputs": [
    {
     "name": "stdout",
     "output_type": "stream",
     "text": [
      "Z\n"
     ]
    }
   ],
   "source": [
    "from collections import defaultdict\n",
    "\n",
    "string = \"zZa\".lower()\n",
    "char_dict = defaultdict(int)\n",
    "duplicated = 0\n",
    "max_value = 0\n",
    "top_char = \"\"\n",
    "for char in string:\n",
    "    char_dict[char] += 1\n",
    "\n",
    "for value in char_dict.values():\n",
    "    max_value = max(max_value, value)\n",
    "\n",
    "for key, value in char_dict.items():\n",
    "    if value == max_value:\n",
    "        duplicated += 1 \n",
    "        top_char = key \n",
    "if duplicated > 1:\n",
    "    print(\"?\")\n",
    "else:\n",
    "    print(top_char.upper())\n",
    "    "
   ]
  },
  {
   "cell_type": "markdown",
   "metadata": {},
   "source": [
    "## 1157"
   ]
  },
  {
   "cell_type": "markdown",
   "metadata": {},
   "source": [
    "- list 자료형 count 메서드 숙달 필요"
   ]
  },
  {
   "cell_type": "code",
   "execution_count": 11,
   "metadata": {},
   "outputs": [
    {
     "name": "stdout",
     "output_type": "stream",
     "text": [
      "right\n"
     ]
    }
   ],
   "source": [
    "x, y, z = map(int, \"0 0 0\".split())\n",
    "if x**2 + y**2 == z**2:\n",
    "    print(\"right\")\n",
    "else:\n",
    "    print(\"wrong\")"
   ]
  },
  {
   "cell_type": "markdown",
   "metadata": {},
   "source": [
    "## 15829"
   ]
  },
  {
   "cell_type": "code",
   "execution_count": 4,
   "metadata": {},
   "outputs": [
    {
     "data": {
      "text/plain": [
       "'a'"
      ]
     },
     "execution_count": 4,
     "metadata": {},
     "output_type": "execute_result"
    }
   ],
   "source": [
    "chr(97)"
   ]
  },
  {
   "cell_type": "code",
   "execution_count": 10,
   "metadata": {},
   "outputs": [
    {
     "name": "stdout",
     "output_type": "stream",
     "text": [
      "490694831\n"
     ]
    }
   ],
   "source": [
    "r = 31 \n",
    "M  = 1234567891\n",
    "hash_dict = {}\n",
    "string = \"zzzzz\" * 10\n",
    "hashed_value = 0\n",
    "\n",
    "for i in range(97, 97 + 26):\n",
    "    hash_dict[chr(i)] = i % 97 + 1\n",
    "    \n",
    "for idx, char in enumerate(string): \n",
    "    \n",
    "    hashed_value += (hash_dict[char] * (r**idx))\n",
    "print(hashed_value % M)"
   ]
  },
  {
   "cell_type": "code",
   "execution_count": null,
   "metadata": {},
   "outputs": [],
   "source": []
  },
  {
   "cell_type": "code",
   "execution_count": 57,
   "metadata": {},
   "outputs": [
    {
     "name": "stdout",
     "output_type": "stream",
     "text": [
      "2\n",
      "3\n",
      "4\n"
     ]
    }
   ],
   "source": [
    "import sys \n",
    "n = int(5)\n",
    "search_list = sorted(list(map(int, \"1 2 3 4 5\".split())))\n",
    "\n",
    "m = int(5)\n",
    "check_list = list(map(int, \"7\".split()))\n",
    "\n",
    "def binary_search(search_list, target):\n",
    "    start = 0\n",
    "    end = len(search_list) - 1\n",
    "    while start <= end:\n",
    "        center = (start + end) // 2\n",
    "        print(center)\n",
    "        if search_list[center] == target:\n",
    "            return 1\n",
    "        elif search_list[center] > target:\n",
    "            end = center - 1\n",
    "        else:\n",
    "            start = center + 1\n",
    "    return 0\n",
    "\n",
    "for target in check_list:\n",
    "    binary_search(search_list, target)"
   ]
  },
  {
   "cell_type": "code",
   "execution_count": null,
   "metadata": {},
   "outputs": [],
   "source": []
  },
  {
   "cell_type": "markdown",
   "metadata": {},
   "source": [
    "### 1436"
   ]
  },
  {
   "cell_type": "code",
   "execution_count": 33,
   "metadata": {},
   "outputs": [
    {
     "name": "stdout",
     "output_type": "stream",
     "text": [
      "166699\n"
     ]
    }
   ],
   "source": [
    "n = 500\n",
    "tmp = set()\n",
    "count = 0\n",
    "string = \"666\"\n",
    "\n",
    "while len(tmp) < n:\n",
    "    \n",
    "    new_string = str(count) + string\n",
    "    \n",
    "    if new_string.count(\"6666\") >= 1:\n",
    "        start = new_string.index(\"666\")\n",
    "        tmp_string = new_string[:start] + new_string[start:start + 3]\n",
    "\n",
    "        for i in range(10**(len(new_string) - len(new_string[:start] + new_string[start:start + 3]))):\n",
    "            if len(str(i)) + len(tmp_string) != len(new_string):\n",
    "                remainder = \"0\" * (len(new_string) - len(tmp_string) - len(str(i))) + str(i)\n",
    "            else:\n",
    "                remainder = str(i)\n",
    "            tmp.add(int(tmp_string + remainder))\n",
    "    \n",
    "    tmp.add(int(new_string))\n",
    "    count += 1\n",
    "print(sorted(list(tmp))[n - 1])"
   ]
  },
  {
   "cell_type": "code",
   "execution_count": null,
   "metadata": {},
   "outputs": [],
   "source": []
  }
 ],
 "metadata": {
  "kernelspec": {
   "display_name": "Python 3.9.7 ('base')",
   "language": "python",
   "name": "python3"
  },
  "language_info": {
   "codemirror_mode": {
    "name": "ipython",
    "version": 3
   },
   "file_extension": ".py",
   "mimetype": "text/x-python",
   "name": "python",
   "nbconvert_exporter": "python",
   "pygments_lexer": "ipython3",
   "version": "3.9.7"
  },
  "orig_nbformat": 4,
  "vscode": {
   "interpreter": {
    "hash": "9cd135b4a99b383c50c24682f355bfa4b6ffcf5393783b606eadee10f7d2d922"
   }
  }
 },
 "nbformat": 4,
 "nbformat_minor": 2
}
