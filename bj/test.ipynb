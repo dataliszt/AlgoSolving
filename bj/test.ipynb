{
 "cells": [
  {
   "cell_type": "markdown",
   "metadata": {},
   "source": [
    "### 11720"
   ]
  },
  {
   "cell_type": "code",
   "execution_count": 1,
   "metadata": {},
   "outputs": [],
   "source": [
    "import time"
   ]
  },
  {
   "cell_type": "code",
   "execution_count": 3,
   "metadata": {},
   "outputs": [
    {
     "name": "stdout",
     "output_type": "stream",
     "text": [
      "50000000\n",
      "7.36 sec\n"
     ]
    }
   ],
   "source": [
    "start = time.time()\n",
    "number  = list(map(int, list(\"1\" * 50000000)))\n",
    "total = 0\n",
    "for i in number:\n",
    "    total += i\n",
    "print(total)\n",
    "print(f\"{time.time() - start:.4f} sec\")"
   ]
  },
  {
   "cell_type": "code",
   "execution_count": 4,
   "metadata": {},
   "outputs": [
    {
     "name": "stdout",
     "output_type": "stream",
     "text": [
      "50000000\n",
      "10.17 sec\n"
     ]
    }
   ],
   "source": [
    "start = time.time()\n",
    "number  = list(\"1\"*50000000)\n",
    "total = 0\n",
    "for i in range(len(number)):\n",
    "    total += int(number[i])\n",
    "print(total)\n",
    "print(f\"{time.time() - start:.4f} sec\")"
   ]
  },
  {
   "cell_type": "markdown",
   "metadata": {},
   "source": [
    "### 1152"
   ]
  },
  {
   "cell_type": "code",
   "execution_count": 12,
   "metadata": {},
   "outputs": [],
   "source": [
    "input = \" The Curious Case of Benjamin Button \""
   ]
  },
  {
   "cell_type": "code",
   "execution_count": 14,
   "metadata": {},
   "outputs": [
    {
     "name": "stdout",
     "output_type": "stream",
     "text": [
      "6\n"
     ]
    }
   ],
   "source": [
    "print(len(input.strip().split(\" \")))"
   ]
  },
  {
   "cell_type": "markdown",
   "metadata": {},
   "source": [
    "### 2577"
   ]
  },
  {
   "cell_type": "code",
   "execution_count": 58,
   "metadata": {},
   "outputs": [
    {
     "name": "stdout",
     "output_type": "stream",
     "text": [
      "2\n",
      "0\n",
      "1\n",
      "0\n",
      "0\n",
      "0\n",
      "0\n",
      "1\n",
      "0\n",
      "5\n"
     ]
    }
   ],
   "source": [
    "num_count_dict = {}\n",
    "total_num = 1\n",
    "for i in range(3):\n",
    "    total_num *= int(999)\n",
    "\n",
    "for num in str(total_num):\n",
    "    if num_count_dict.get(num) is None:\n",
    "        num_count_dict[num] = 1\n",
    "    else:\n",
    "        num_count_dict[num] += 1\n",
    "\n",
    "for i in range(10):\n",
    "    if num_count_dict.get(str(i)) is None:\n",
    "        print(0)\n",
    "    else:\n",
    "        print(num_count_dict.get(str(i)))"
   ]
  },
  {
   "cell_type": "code",
   "execution_count": 57,
   "metadata": {},
   "outputs": [
    {
     "name": "stdout",
     "output_type": "stream",
     "text": [
      "2\n",
      "0\n",
      "1\n",
      "0\n",
      "0\n",
      "0\n",
      "0\n",
      "1\n",
      "0\n",
      "5\n"
     ]
    }
   ],
   "source": [
    "from collections import Counter\n",
    "\n",
    "a = 999\n",
    "b = 999\n",
    "c = 999\n",
    "\n",
    "num_count = Counter(str(a * b * c))\n",
    "for num in range(10):\n",
    "    if num_count.get(str(num)) is None:\n",
    "        print(0)\n",
    "    else:\n",
    "        print(num_count.get(str(num)))"
   ]
  },
  {
   "cell_type": "code",
   "execution_count": 38,
   "metadata": {},
   "outputs": [],
   "source": [
    "a = 5"
   ]
  },
  {
   "cell_type": "code",
   "execution_count": 40,
   "metadata": {},
   "outputs": [
    {
     "name": "stdout",
     "output_type": "stream",
     "text": [
      "10\n",
      "10\n",
      "10\n",
      "10\n",
      "10\n"
     ]
    }
   ],
   "source": [
    "repeat_time = int(a)\n",
    "for i in range(repeat_time):\n",
    "    string = \"OOXXOXXOOO\"\n",
    "    total_score = 0 \n",
    "    score = 0\n",
    "    for char in string:\n",
    "        if char == \"O\":\n",
    "            score += 1\n",
    "            total_score += score\n",
    "        else:\n",
    "            score = 0 \n",
    "    print(total_score)"
   ]
  },
  {
   "cell_type": "code",
   "execution_count": 64,
   "metadata": {},
   "outputs": [
    {
     "name": "stdout",
     "output_type": "stream",
     "text": [
      "Z\n"
     ]
    }
   ],
   "source": [
    "from collections import defaultdict\n",
    "\n",
    "string = \"zZa\".lower()\n",
    "char_dict = defaultdict(int)\n",
    "duplicated = 0\n",
    "max_value = 0\n",
    "top_char = \"\"\n",
    "for char in string:\n",
    "    char_dict[char] += 1\n",
    "\n",
    "for value in char_dict.values():\n",
    "    max_value = max(max_value, value)\n",
    "\n",
    "for key, value in char_dict.items():\n",
    "    if value == max_value:\n",
    "        duplicated += 1 \n",
    "        top_char = key \n",
    "if duplicated > 1:\n",
    "    print(\"?\")\n",
    "else:\n",
    "    print(top_char.upper())\n",
    "    "
   ]
  },
  {
   "cell_type": "markdown",
   "metadata": {},
   "source": [
    "## 1157"
   ]
  },
  {
   "cell_type": "markdown",
   "metadata": {},
   "source": [
    "- list 자료형 count 메서드 숙달 필요"
   ]
  },
  {
   "cell_type": "code",
   "execution_count": 11,
   "metadata": {},
   "outputs": [
    {
     "name": "stdout",
     "output_type": "stream",
     "text": [
      "right\n"
     ]
    }
   ],
   "source": [
    "x, y, z = map(int, \"0 0 0\".split())\n",
    "if x**2 + y**2 == z**2:\n",
    "    print(\"right\")\n",
    "else:\n",
    "    print(\"wrong\")"
   ]
  },
  {
   "cell_type": "markdown",
   "metadata": {},
   "source": [
    "## 15829"
   ]
  },
  {
   "cell_type": "code",
   "execution_count": 4,
   "metadata": {},
   "outputs": [
    {
     "data": {
      "text/plain": [
       "'a'"
      ]
     },
     "execution_count": 4,
     "metadata": {},
     "output_type": "execute_result"
    }
   ],
   "source": [
    "chr(97)"
   ]
  },
  {
   "cell_type": "code",
   "execution_count": 10,
   "metadata": {},
   "outputs": [
    {
     "name": "stdout",
     "output_type": "stream",
     "text": [
      "490694831\n"
     ]
    }
   ],
   "source": [
    "r = 31 \n",
    "M  = 1234567891\n",
    "hash_dict = {}\n",
    "string = \"zzzzz\" * 10\n",
    "hashed_value = 0\n",
    "\n",
    "for i in range(97, 97 + 26):\n",
    "    hash_dict[chr(i)] = i % 97 + 1\n",
    "    \n",
    "for idx, char in enumerate(string): \n",
    "    \n",
    "    hashed_value += (hash_dict[char] * (r**idx))\n",
    "print(hashed_value % M)"
   ]
  },
  {
   "cell_type": "code",
   "execution_count": null,
   "metadata": {},
   "outputs": [],
   "source": []
  },
  {
   "cell_type": "code",
   "execution_count": 57,
   "metadata": {},
   "outputs": [
    {
     "name": "stdout",
     "output_type": "stream",
     "text": [
      "2\n",
      "3\n",
      "4\n"
     ]
    }
   ],
   "source": [
    "import sys \n",
    "n = int(5)\n",
    "search_list = sorted(list(map(int, \"1 2 3 4 5\".split())))\n",
    "\n",
    "m = int(5)\n",
    "check_list = list(map(int, \"7\".split()))\n",
    "\n",
    "def binary_search(search_list, target):\n",
    "    start = 0\n",
    "    end = len(search_list) - 1\n",
    "    while start <= end:\n",
    "        center = (start + end) // 2\n",
    "        print(center)\n",
    "        if search_list[center] == target:\n",
    "            return 1\n",
    "        elif search_list[center] > target:\n",
    "            end = center - 1\n",
    "        else:\n",
    "            start = center + 1\n",
    "    return 0\n",
    "\n",
    "for target in check_list:\n",
    "    binary_search(search_list, target)"
   ]
  },
  {
   "cell_type": "code",
   "execution_count": null,
   "metadata": {},
   "outputs": [],
   "source": []
  },
  {
   "cell_type": "markdown",
   "metadata": {},
   "source": [
    "### 1436"
   ]
  },
  {
   "cell_type": "code",
   "execution_count": 33,
   "metadata": {},
   "outputs": [
    {
     "name": "stdout",
     "output_type": "stream",
     "text": [
      "166699\n"
     ]
    }
   ],
   "source": [
    "n = 500\n",
    "tmp = set()\n",
    "count = 0\n",
    "string = \"666\"\n",
    "\n",
    "while len(tmp) < n:\n",
    "    \n",
    "    new_string = str(count) + string\n",
    "    \n",
    "    if new_string.count(\"6666\") >= 1:\n",
    "        start = new_string.index(\"666\")\n",
    "        tmp_string = new_string[:start] + new_string[start:start + 3]\n",
    "\n",
    "        for i in range(10**(len(new_string) - len(new_string[:start] + new_string[start:start + 3]))):\n",
    "            if len(str(i)) + len(tmp_string) != len(new_string):\n",
    "                remainder = \"0\" * (len(new_string) - len(tmp_string) - len(str(i))) + str(i)\n",
    "            else:\n",
    "                remainder = str(i)\n",
    "            tmp.add(int(tmp_string + remainder))\n",
    "    \n",
    "    tmp.add(int(new_string))\n",
    "    count += 1\n",
    "print(sorted(list(tmp))[n - 1])"
   ]
  },
  {
   "cell_type": "code",
   "execution_count": 1,
   "metadata": {},
   "outputs": [
    {
     "name": "stdout",
     "output_type": "stream",
     "text": [
      "66666\n"
     ]
    }
   ],
   "source": [
    "n=187\n",
    "i=0\n",
    "while n:\n",
    "    i+=1;\n",
    "    n-='666'in'%s'%i\n",
    "print(i)"
   ]
  },
  {
   "cell_type": "code",
   "execution_count": 3,
   "metadata": {},
   "outputs": [],
   "source": [
    "num_list = [5, 2, 3, 1, 4, 2, 3, 5, 1, 7]"
   ]
  },
  {
   "cell_type": "code",
   "execution_count": 13,
   "metadata": {},
   "outputs": [
    {
     "name": "stdout",
     "output_type": "stream",
     "text": [
      "1\n",
      "2\n",
      "3\n",
      "4\n",
      "5\n",
      "6\n",
      "7\n",
      "8\n",
      "9\n",
      "10\n"
     ]
    }
   ],
   "source": [
    "n = int(input())\n",
    "temp_dict = {}\n",
    "for i in range(n):\n",
    "    num = int(input())\n",
    "    if temp_dict.get(num):\n",
    "        temp_dict[num] += 1\n",
    "    else:\n",
    "        temp_dict[num] = 1\n",
    "        \n",
    "for key in sorted(temp_dict.keys()):\n",
    "        for _ in range(temp_dict[key]):\n",
    "            print(key)"
   ]
  },
  {
   "cell_type": "markdown",
   "metadata": {},
   "source": [
    "## 2751"
   ]
  },
  {
   "cell_type": "code",
   "execution_count": 19,
   "metadata": {},
   "outputs": [
    {
     "name": "stdout",
     "output_type": "stream",
     "text": [
      "[1, 2, 3, 4, 5]\n"
     ]
    }
   ],
   "source": [
    "unsorted_list = [5, 4, 3, 2, 1]\n",
    "swap = 0\n",
    "for i in range(len(unsorted_list) - 1):\n",
    "    for j in range(len(unsorted_list) -i - 1):\n",
    "        if unsorted_list[j] > unsorted_list[j + 1]:\n",
    "            unsorted_list[j], unsorted_list[j + 1] = unsorted_list[j + 1], unsorted_list[j]\n",
    "            swap += 1\n",
    "    if swap == 0:\n",
    "        print(unsorted_list)\n",
    "        break \n",
    "else:\n",
    "    print(unsorted_list)\n",
    "        "
   ]
  },
  {
   "cell_type": "code",
   "execution_count": 27,
   "metadata": {},
   "outputs": [
    {
     "name": "stdout",
     "output_type": "stream",
     "text": [
      "-3\n",
      "-2\n",
      "-1\n",
      "3\n"
     ]
    }
   ],
   "source": [
    "unsorted_list = [3, -1, -2, -3]\n",
    "max_value = max(unsorted_list)\n",
    "min_value = min(unsorted_list)\n",
    "tmp_dict = {}\n",
    "for num in unsorted_list:\n",
    "    tmp_dict[num] = 1\n",
    "\n",
    "for i in range(min_value, max_value + 1):\n",
    "    if i in tmp_dict.keys():\n",
    "        print(i)"
   ]
  },
  {
   "cell_type": "markdown",
   "metadata": {},
   "source": [
    "### 1018"
   ]
  },
  {
   "cell_type": "code",
   "execution_count": 260,
   "metadata": {},
   "outputs": [
    {
     "data": {
      "text/plain": [
       "['BBBBBBBBWBWBW',\n",
       " 'BBBBBBBBBWBWB',\n",
       " 'BBBBBBBBWBWBW',\n",
       " 'BBBBBBBBBWBWB',\n",
       " 'BBBBBBBBWBWBW',\n",
       " 'BBBBBBBBBWBWB',\n",
       " 'BBBBBBBBWBWBW',\n",
       " 'BBBBBBBBBWBWB',\n",
       " 'WWWWWWWWWWBWB',\n",
       " 'WWWWWWWWWWBWB']"
      ]
     },
     "execution_count": 260,
     "metadata": {},
     "output_type": "execute_result"
    }
   ],
   "source": [
    "n, m = 10, 13 \n",
    "\n",
    "string = \\\n",
    "'''\n",
    "BBBBBBBBWBWBW\n",
    "BBBBBBBBBWBWB\n",
    "BBBBBBBBWBWBW\n",
    "BBBBBBBBBWBWB\n",
    "BBBBBBBBWBWBW\n",
    "BBBBBBBBBWBWB\n",
    "BBBBBBBBWBWBW\n",
    "BBBBBBBBBWBWB\n",
    "WWWWWWWWWWBWB\n",
    "WWWWWWWWWWBWB'''\n",
    "string_list = string.split()\n",
    "string_list"
   ]
  },
  {
   "cell_type": "code",
   "execution_count": 261,
   "metadata": {},
   "outputs": [
    {
     "name": "stdout",
     "output_type": "stream",
     "text": [
      "12\n"
     ]
    }
   ],
   "source": [
    "w, b = \"W\", \"B\"\n",
    "row, col = 0, 0 \n",
    "last_string_head = \"\"\n",
    "cnt_list = []\n",
    "while True: \n",
    "    \n",
    "    if col + 8 > m: \n",
    "        col = 0 \n",
    "        row += 1\n",
    "        \n",
    "    if row + 8 > n:\n",
    "        break \n",
    "    \n",
    "    final_cnt = 99999\n",
    "    for char in [b, w]:\n",
    "        cnt = 0 \n",
    "        for i, string in enumerate(string_list[row : row + 8]): # row \n",
    "            string = string[col : col + 8] # col\n",
    "            if i == 0: \n",
    "                if char == b:\n",
    "                    cnt += string[::2].count(w)\n",
    "                    cnt += string[1::2].count(b)\n",
    "                    last_string_head = b\n",
    "                else:\n",
    "                    cnt += string[::2].count(b)\n",
    "                    cnt += string[1::2].count(w)\n",
    "                    last_string_head = w\n",
    "            else: \n",
    "                if last_string_head == b:\n",
    "                    cnt += string[::2].count(b)\n",
    "                    cnt += string[1::2].count(w)\n",
    "                    last_string_head = w\n",
    "                else:\n",
    "                    cnt += string[::2].count(w)\n",
    "                    cnt += string[1::2].count(b)\n",
    "                    last_string_head = b\n",
    "\n",
    "        cnt_list.append(cnt)\n",
    "    col += 1\n",
    "        \n",
    "print(min(cnt_list))"
   ]
  },
  {
   "cell_type": "markdown",
   "metadata": {},
   "source": [
    "### 2869"
   ]
  },
  {
   "cell_type": "code",
   "execution_count": 11,
   "metadata": {},
   "outputs": [
    {
     "data": {
      "text/plain": [
       "10000001"
      ]
     },
     "execution_count": 11,
     "metadata": {},
     "output_type": "execute_result"
    }
   ],
   "source": [
    "def calc_days(a: int, b: int, v: int) -> int:\n",
    "    day = 1\n",
    "    while True: \n",
    "        today_climb = a * day\n",
    " \n",
    " \n",
    "    if v % 2 == 0:\n",
    "        return day\n",
    "    else:\n",
    "        return day + 1 \n",
    "calc_days(100, 99, 1000000000)"
   ]
  },
  {
   "cell_type": "code",
   "execution_count": 68,
   "metadata": {},
   "outputs": [
    {
     "data": {
      "text/plain": [
       "3"
      ]
     },
     "execution_count": 68,
     "metadata": {},
     "output_type": "execute_result"
    }
   ],
   "source": [
    "def calc_days(a: int, b: int, v: int) -> int:\n",
    "    if (v - b) % (a - b): \n",
    "        return (v - b) //  (a - b) + 1\n",
    "    else:\n",
    "        return (v - b) //  (a - b)\n",
    "calc_days(4, 2, 7)"
   ]
  },
  {
   "cell_type": "markdown",
   "metadata": {},
   "source": [
    "### 7568"
   ]
  },
  {
   "cell_type": "code",
   "execution_count": 146,
   "metadata": {},
   "outputs": [],
   "source": [
    "string = \"\"\"\n",
    "\t\t55 185\n",
    "58 183\n",
    "88 186\n",
    "60 175\n",
    "46 155\n",
    "\t\t\"\"\"\n"
   ]
  },
  {
   "cell_type": "code",
   "execution_count": 149,
   "metadata": {},
   "outputs": [
    {
     "name": "stdout",
     "output_type": "stream",
     "text": [
      "2\n",
      "2\n",
      "1\n",
      "2\n",
      "5\n"
     ]
    }
   ],
   "source": [
    "n = 5\n",
    "p_list = []\n",
    "last = 0\n",
    "for temp in string.strip().split(\"\\n\"):\n",
    "    info = list(map(int, temp.split()))\n",
    "    p_list.append(info)\n",
    "\n",
    "for i in range(len(p_list)):\n",
    "    cnt = 1\n",
    "    for j in range(len(p_list)):\n",
    "        if j == i:\n",
    "            pass\n",
    "        else: \n",
    "            if p_list[i][0] < p_list[j][0] and p_list[i][1] < p_list[j][1]:\n",
    "                cnt += 1\n",
    "    p_list[i].append(cnt) \n",
    "for item in p_list:\n",
    "    print(item[2])"
   ]
  },
  {
   "cell_type": "markdown",
   "metadata": {},
   "source": [
    "### 11651"
   ]
  },
  {
   "cell_type": "code",
   "execution_count": 11,
   "metadata": {},
   "outputs": [
    {
     "data": {
      "text/plain": [
       "[[0, 4], [1, 2], [1, -1], [2, 2], [3, 3]]"
      ]
     },
     "execution_count": 11,
     "metadata": {},
     "output_type": "execute_result"
    }
   ],
   "source": [
    "n = 5\n",
    "string_list = []\n",
    "for _ in range(n):\n",
    "    temp = list(map(int, input().strip().split()))\n",
    "    string_list.append(temp)\n",
    "string_list.sort(key=lambda x : (x[1], x[0]))\n",
    "for item in string_list:\n",
    "    print(item[0], item[1])"
   ]
  },
  {
   "cell_type": "code",
   "execution_count": 17,
   "metadata": {},
   "outputs": [
    {
     "data": {
      "text/plain": [
       "[[1, -1], [1, 2], [2, 2], [3, 3], [0, 4]]"
      ]
     },
     "execution_count": 17,
     "metadata": {},
     "output_type": "execute_result"
    }
   ],
   "source": [
    "string_list = sorted(string_list, key=lambda x : (x[1], x[0]))"
   ]
  },
  {
   "cell_type": "code",
   "execution_count": 16,
   "metadata": {},
   "outputs": [
    {
     "name": "stdout",
     "output_type": "stream",
     "text": [
      "1 -1\n",
      "1 2\n",
      "2 2\n",
      "3 3\n",
      "0 4\n"
     ]
    }
   ],
   "source": [
    "for item in string_list:\n",
    "    print(item[0], item[1])"
   ]
  },
  {
   "cell_type": "markdown",
   "metadata": {},
   "source": [
    "### 2164 "
   ]
  },
  {
   "cell_type": "code",
   "execution_count": 38,
   "metadata": {},
   "outputs": [],
   "source": [
    "card_list = [x for x in range(1, int(input()) + 1)]"
   ]
  },
  {
   "cell_type": "code",
   "execution_count": 39,
   "metadata": {},
   "outputs": [
    {
     "data": {
      "text/plain": [
       "[1, 2, 3, 4, 5, 6]"
      ]
     },
     "execution_count": 39,
     "metadata": {},
     "output_type": "execute_result"
    }
   ],
   "source": [
    "card_list"
   ]
  },
  {
   "cell_type": "code",
   "execution_count": 40,
   "metadata": {},
   "outputs": [
    {
     "name": "stdout",
     "output_type": "stream",
     "text": [
      "[3, 4, 5, 6, 2]\n",
      "[5, 6, 2, 4]\n",
      "[2, 4, 6]\n",
      "[6, 4]\n",
      "[4]\n",
      "[4]\n"
     ]
    }
   ],
   "source": [
    "while True:\n",
    "    if len(card_list) == 1:\n",
    "        break\n",
    "    del card_list[0]\n",
    "    card_list.append(card_list[0])\n",
    "    del card_list[0]\n",
    "    print(card_list)\n",
    "print(card_list)"
   ]
  },
  {
   "cell_type": "markdown",
   "metadata": {},
   "source": [
    "### 2164"
   ]
  },
  {
   "cell_type": "code",
   "execution_count": 44,
   "metadata": {},
   "outputs": [
    {
     "name": "stdout",
     "output_type": "stream",
     "text": [
      "6\n",
      "[1, 3, 5]\n",
      "[]\n"
     ]
    }
   ],
   "source": [
    "even_max = max([x for x in range(1, 6 + 1) if x % 2 == 0])\n",
    "print(even_max)\n",
    "odd_under_even_max = [x for x in range(1, 6 + 1) if x % 2 != 0 and x < even_max]\n",
    "odd_upper_enve_max = [x for x in range(1, 6 + 1) if x % 2 != 0 and x > even_max]\n",
    "print(odd_under_even_max)\n",
    "print(odd_upper_enve_max)"
   ]
  },
  {
   "cell_type": "code",
   "execution_count": 45,
   "metadata": {},
   "outputs": [],
   "source": [
    "temp_list = [even_max - 1]\n",
    "for i in odd_under_even_max:\n",
    "    temp_list.append(i)"
   ]
  },
  {
   "cell_type": "code",
   "execution_count": 46,
   "metadata": {},
   "outputs": [
    {
     "data": {
      "text/plain": [
       "[5, 1, 3, 5]"
      ]
     },
     "execution_count": 46,
     "metadata": {},
     "output_type": "execute_result"
    }
   ],
   "source": [
    "temp_list"
   ]
  },
  {
   "cell_type": "code",
   "execution_count": 50,
   "metadata": {},
   "outputs": [
    {
     "name": "stdout",
     "output_type": "stream",
     "text": [
      "4\n"
     ]
    }
   ],
   "source": [
    "from queue import deque\n",
    "temp_q = deque([x for x in range(1, 6 + 1)])\n",
    "while True: \n",
    "    if len(temp_q) == 1:\n",
    "        print(temp_q[0])\n",
    "        break \n",
    "    temp_q.popleft()\n",
    "    temp_q.append(temp_q.popleft())"
   ]
  }
 ],
 "metadata": {
  "kernelspec": {
   "display_name": "Python 3.9.7 ('base')",
   "language": "python",
   "name": "python3"
  },
  "language_info": {
   "codemirror_mode": {
    "name": "ipython",
    "version": 3
   },
   "file_extension": ".py",
   "mimetype": "text/x-python",
   "name": "python",
   "nbconvert_exporter": "python",
   "pygments_lexer": "ipython3",
   "version": "3.9.7"
  },
  "orig_nbformat": 4,
  "vscode": {
   "interpreter": {
    "hash": "9cd135b4a99b383c50c24682f355bfa4b6ffcf5393783b606eadee10f7d2d922"
   }
  }
 },
 "nbformat": 4,
 "nbformat_minor": 2
}
