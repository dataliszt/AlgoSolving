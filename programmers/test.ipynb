{
 "cells": [
  {
   "cell_type": "code",
   "execution_count": 13,
   "metadata": {},
   "outputs": [],
   "source": [
    "participant = [\"king\", \"ping\", \"jing\", \"king\", \"a\", \"bing\"]\n",
    "completion = [\"king\", \"jing\", \"ping\", \"a\", \"bing\"]\n"
   ]
  },
  {
   "cell_type": "code",
   "execution_count": 16,
   "metadata": {},
   "outputs": [],
   "source": [
    "# 효율성 탈락\n",
    "def solution(participant, completion):\n",
    "    for name in participant:\n",
    "        if name in completion:\n",
    "            del completion[completion.index(name)]\n",
    "        else:\n",
    "            answer = name\n",
    "    return answer"
   ]
  },
  {
   "cell_type": "code",
   "execution_count": 17,
   "metadata": {},
   "outputs": [
    {
     "name": "stdout",
     "output_type": "stream",
     "text": [
      "['a', 'bing', 'jing', 'king', 'king', 'ping']\n",
      "['a', 'bing', 'jing', 'king', 'ping']\n"
     ]
    }
   ],
   "source": [
    "print(sorted(participant))\n",
    "print(sorted(completion))    "
   ]
  },
  {
   "cell_type": "code",
   "execution_count": 18,
   "metadata": {},
   "outputs": [],
   "source": [
    "participant.sort()\n",
    "completion.sort()"
   ]
  },
  {
   "cell_type": "code",
   "execution_count": 22,
   "metadata": {},
   "outputs": [],
   "source": [
    "a = [\"marina\", \"josipa\", \"nikola\", \"vinko\", \"filipa\"]\n",
    "b = [\"josipa\", \"filipa\", \"marina\", \"nikola\"]\n",
    "\n",
    "a.sort()\n",
    "b.sort()"
   ]
  },
  {
   "cell_type": "code",
   "execution_count": 26,
   "metadata": {},
   "outputs": [
    {
     "data": {
      "text/plain": [
       "'vinko'"
      ]
     },
     "execution_count": 26,
     "metadata": {},
     "output_type": "execute_result"
    }
   ],
   "source": [
    "# 통과\n",
    "def solution(participant, completion):\n",
    "    participant.sort()\n",
    "    completion.sort()\n",
    "    for i in range(len(completion)):\n",
    "        if participant[i] != completion[i]:\n",
    "            return participant[i]\n",
    "    return participant[-1]\n",
    "solution(a, b)"
   ]
  },
  {
   "cell_type": "code",
   "execution_count": null,
   "metadata": {},
   "outputs": [],
   "source": []
  },
  {
   "cell_type": "code",
   "execution_count": 178,
   "metadata": {},
   "outputs": [
    {
     "data": {
      "text/plain": [
       "False"
      ]
     },
     "execution_count": 178,
     "metadata": {},
     "output_type": "execute_result"
    }
   ],
   "source": [
    "def solution(s):\n",
    "    c = 0\n",
    "    for x in s:\n",
    "        if x == '(':\n",
    "            c += 1\n",
    "        else:\n",
    "            c -= 1\n",
    "        if c < 0:\n",
    "            return False\n",
    "    return c == 0\n",
    "\n",
    "solution(\")(\")"
   ]
  },
  {
   "cell_type": "code",
   "execution_count": 172,
   "metadata": {},
   "outputs": [],
   "source": [
    "def solution(s):\n",
    "    if s[0] == \")\" or s[-1] == \"(\" or len(s) <= 1:\n",
    "        return False\n",
    "    count = 0\n",
    "    for ele in s:\n",
    "        if ele == \"(\":\n",
    "            count += 1\n",
    "        else:\n",
    "            count -= 1\n",
    "    return count == 0"
   ]
  },
  {
   "cell_type": "code",
   "execution_count": null,
   "metadata": {},
   "outputs": [],
   "source": [
    "def solution(s):\n",
    "    count = 0\n",
    "    for ele in s:\n",
    "        if ele == \"(\":\n",
    "            count += 1\n",
    "        else:\n",
    "            count -= 1\n",
    "        if count < 0:\n",
    "            return False\n",
    "    return count == 0"
   ]
  },
  {
   "cell_type": "code",
   "execution_count": null,
   "metadata": {},
   "outputs": [],
   "source": []
  },
  {
   "cell_type": "code",
   "execution_count": null,
   "metadata": {},
   "outputs": [],
   "source": []
  },
  {
   "cell_type": "code",
   "execution_count": null,
   "metadata": {},
   "outputs": [],
   "source": []
  },
  {
   "cell_type": "code",
   "execution_count": 33,
   "metadata": {},
   "outputs": [],
   "source": [
    "skill = \"CBD\"\n",
    "skill_trees = [\"BACDE\", \"CBADF\", \"AECB\", \"BDA\"]"
   ]
  },
  {
   "cell_type": "code",
   "execution_count": 35,
   "metadata": {},
   "outputs": [],
   "source": [
    "def solution(skill, skill_trees):\n",
    "    count = 0\n",
    "    for skill_tree in skill_trees:\n",
    "        temp_string = \"\"\n",
    "        for ele in skill_tree:\n",
    "            if ele in skill:\n",
    "                temp_string += ele \n",
    "        if skill[:len(temp_string)] == temp_string:\n",
    "            count += 1\n",
    "    return count"
   ]
  },
  {
   "cell_type": "code",
   "execution_count": 36,
   "metadata": {},
   "outputs": [
    {
     "data": {
      "text/plain": [
       "2"
      ]
     },
     "execution_count": 36,
     "metadata": {},
     "output_type": "execute_result"
    }
   ],
   "source": [
    "solution(skill, skill_trees)"
   ]
  },
  {
   "cell_type": "markdown",
   "metadata": {},
   "source": [
    "### 배달"
   ]
  },
  {
   "cell_type": "code",
   "execution_count": 1,
   "metadata": {},
   "outputs": [],
   "source": [
    "N = 5\n",
    "K = 3\n",
    "#road = [[1, 2, 1], [1, 3, 2], [2, 3, 2], [3, 4, 3], [3, 5, 2], [3, 5, 3], [5, 6, 1]]\n",
    "road = [[1, 2, 1], [2, 3, 3], [5, 2, 2], [1, 4, 2], [5, 3, 1], [5, 4, 2]]"
   ]
  },
  {
   "cell_type": "code",
   "execution_count": 146,
   "metadata": {},
   "outputs": [],
   "source": [
    "from queue import deque\n",
    "\n",
    "def solution(N, road, K):\n",
    "    for info in road:\n",
    "        if info[0] > info[1]:\n",
    "            info[0], info[1]  = info[1], info[0]\n",
    "        \n",
    "    total_distance = [0 for x in range(N + 1)]\n",
    "    next_init = deque([1])\n",
    "    \n",
    "    while next_init:\n",
    "        init = next_init.popleft()\n",
    "        for info in road:\n",
    "            if info[0] == init:\n",
    "                next_init.append(info[1])\n",
    "                if total_distance[info[1]] == 0:\n",
    "                    total_distance[info[1]] = total_distance[info[0]] + info[2]\n",
    "                elif total_distance[info[1]] > total_distance[info[0]] + info[2]:\n",
    "                    total_distance[info[1]] = total_distance[info[0]] + info[2]\n",
    "                else:pass\n",
    "    return len([x for x in total_distance if x > 0 and x <= K]) + 1\n",
    "    "
   ]
  },
  {
   "cell_type": "code",
   "execution_count": 11,
   "metadata": {},
   "outputs": [],
   "source": [
    "N = 6\n",
    "K = 4\n",
    "road = [[1, 2, 1], [1, 3, 2], [2, 3, 2], [3, 4, 3], [3, 5, 2], [3, 5, 3], [5, 6, 1]]\n",
    "#road = [[1, 2, 1], [2, 3, 3], [5, 2, 2], [1, 4, 2], [5, 3, 1], [5, 4, 2]]"
   ]
  },
  {
   "cell_type": "code",
   "execution_count": 12,
   "metadata": {},
   "outputs": [],
   "source": [
    "from queue import deque\n",
    "def solution(N, road, K):\n",
    "            \n",
    "    total_time = [0 for x in range(N + 1)]\n",
    "    next_visit = deque([1])\n",
    "    while next_visit:\n",
    "        init = next_visit.popleft()\n",
    "        for info in road:\n",
    "            if info[0] > info[1]:\n",
    "                info[0], info[1]  = info[1], info[0]\n",
    "                \n",
    "            if info[0] == init:\n",
    "                if total_time[info[1]] == 0:\n",
    "                    total_time[info[1]] += total_time[info[0]] + info[2]\n",
    "                else:\n",
    "                    if total_time[info[0]] + info[2] < total_time[info[1]]:\n",
    "                        total_time[info[1]] = total_time[info[0]] + info[2]\n",
    "                next_visit.append(info[1])\n",
    "    return len([x for x in total_time if x > 0 and x <= K]) + 1"
   ]
  },
  {
   "cell_type": "code",
   "execution_count": 13,
   "metadata": {},
   "outputs": [
    {
     "data": {
      "text/plain": [
       "4"
      ]
     },
     "execution_count": 13,
     "metadata": {},
     "output_type": "execute_result"
    }
   ],
   "source": [
    "solution(N, road, K)"
   ]
  },
  {
   "cell_type": "markdown",
   "metadata": {},
   "source": [
    "### 문자열 압축 사본"
   ]
  },
  {
   "cell_type": "code",
   "execution_count": 220,
   "metadata": {},
   "outputs": [],
   "source": [
    "def solution(string):\n",
    "    shortest_len = len(string)\n",
    "    for i in range(1, len(string) - 1):\n",
    "        temp_string = \"\"\n",
    "        cnt = 1\n",
    "        for j in range(0, len(string) - 1, i):\n",
    "            cur, next = string[j : j + i], string[j + i : j + (i * 2)]\n",
    "            if cur == next:\n",
    "                cnt += 1\n",
    "                if j == len(string) - 2:\n",
    "                    temp_string += f\"{cnt}{cur}\"\n",
    "            else:\n",
    "                if cnt > 1:\n",
    "                    temp_string += f\"{cnt}{cur}\"\n",
    "                else: \n",
    "                    temp_string += cur\n",
    "                    \n",
    "                cnt = 1\n",
    "        shortest_len = min(shortest_len, len(temp_string))\n",
    "    return shortest_len\n"
   ]
  },
  {
   "cell_type": "code",
   "execution_count": 278,
   "metadata": {},
   "outputs": [
    {
     "name": "stdout",
     "output_type": "stream",
     "text": [
      "10\n",
      "9\n",
      "8\n",
      "8\n",
      "8\n",
      "8\n",
      "8\n",
      "8\n",
      "8\n"
     ]
    }
   ],
   "source": [
    "string = \"abcabcdede\"\n",
    "\n",
    "shortest_len = len(string)\n",
    "for i in range(1, len(string)):\n",
    "\n",
    "    former_list = [] \n",
    "    q_string = string\n",
    "    while q_string:\n",
    "        cur = q_string[:i]\n",
    "        if not former_list:\n",
    "            former_list.append([cur, 1])\n",
    "        else:\n",
    "            if cur == former_list[-1][0]:\n",
    "                former_list[-1][1] += 1\n",
    "            else:\n",
    "                former_list.append([cur, 1])\n",
    "                \n",
    "        q_string = q_string[i:]\n",
    "        \n",
    "    temp_string = \"\"\n",
    "    for (ele, num) in former_list:\n",
    "        if num == 1:\n",
    "            temp_string += ele\n",
    "        else: \n",
    "            temp_string += f\"{num}{ele}\"\n",
    "            \n",
    "    shortest_len = min(shortest_len, len(temp_string))\n",
    "    \n",
    "\n"
   ]
  },
  {
   "cell_type": "code",
   "execution_count": 279,
   "metadata": {},
   "outputs": [],
   "source": [
    "def solution(string):\n",
    "    shortest_len = len(string)\n",
    "    for i in range(1, len(string)):\n",
    "\n",
    "        q_string = string\n",
    "        former_list = [] \n",
    "        temp_string = \"\"\n",
    "        \n",
    "        while q_string:\n",
    "            cur = q_string[:i]\n",
    "            if not former_list:\n",
    "                former_list.append([cur, 1])\n",
    "            else:\n",
    "                if cur == former_list[-1][0]:\n",
    "                    former_list[-1][1] += 1\n",
    "                else:\n",
    "                    former_list.append([cur, 1])\n",
    "                    \n",
    "            q_string = q_string[i:]\n",
    "            \n",
    "        for (ele, num) in former_list:\n",
    "            if num == 1:\n",
    "                temp_string += ele\n",
    "            else: \n",
    "                temp_string += f\"{num}{ele}\"\n",
    "                \n",
    "        shortest_len = min(shortest_len, len(temp_string))\n",
    "    return shortest_len\n",
    "    "
   ]
  },
  {
   "cell_type": "code",
   "execution_count": null,
   "metadata": {},
   "outputs": [],
   "source": []
  }
 ],
 "metadata": {
  "kernelspec": {
   "display_name": "Python 3.8.12 ('withmind')",
   "language": "python",
   "name": "python3"
  },
  "language_info": {
   "codemirror_mode": {
    "name": "ipython",
    "version": 3
   },
   "file_extension": ".py",
   "mimetype": "text/x-python",
   "name": "python",
   "nbconvert_exporter": "python",
   "pygments_lexer": "ipython3",
   "version": "3.8.12"
  },
  "orig_nbformat": 4,
  "vscode": {
   "interpreter": {
    "hash": "06c66610b20be63b1282705d3cac5501bd016203ffd6f2de8462fc3c815b1af6"
   }
  }
 },
 "nbformat": 4,
 "nbformat_minor": 2
}
